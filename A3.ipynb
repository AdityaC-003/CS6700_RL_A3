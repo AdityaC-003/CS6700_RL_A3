{
 "cells": [
  {
   "cell_type": "markdown",
   "metadata": {},
   "source": [
    "## Imports and Config"
   ]
  },
  {
   "cell_type": "code",
   "execution_count": 72,
   "metadata": {},
   "outputs": [],
   "source": [
    "import numpy as np\n",
    "from tqdm import tqdm\n",
    "import random\n",
    "\n",
    "import gymnasium as gym\n",
    "\n",
    "import matplotlib.pyplot as plt\n",
    "import seaborn as sns"
   ]
  },
  {
   "cell_type": "code",
   "execution_count": 87,
   "metadata": {},
   "outputs": [
    {
     "name": "stdout",
     "output_type": "stream",
     "text": [
      "0 4 20 23\n"
     ]
    }
   ],
   "source": [
    "# Learning parameters\n",
    "GAMMA = 0.9\n",
    "ALPHA = 0.1\n",
    "\n",
    "# get locations of the colored states\n",
    "env = gym.make(\"Taxi-v3\")\n",
    "RED_LOC, GREEN_LOC, YELLOW_LOC, BLUE_LOC = map(\n",
    "    lambda x: x[0] * 5 + x[1], env.unwrapped.locs\n",
    ")\n",
    "print(RED_LOC, GREEN_LOC, YELLOW_LOC, BLUE_LOC)\n",
    "env.close()\n",
    "\n",
    "# we'll use these once we have working code\n",
    "GRID_SIZE = 25\n",
    "N_PRIMITIVE_MOVES = 4\n",
    "N_PRIMITIVE_ACTIONS = N_PRIMITIVE_MOVES + 2\n",
    "N_OPTIONS = 4\n",
    "N_TOTAL_ACTIONS = N_PRIMITIVE_ACTIONS + N_OPTIONS"
   ]
  },
  {
   "cell_type": "code",
   "execution_count": 74,
   "metadata": {},
   "outputs": [],
   "source": [
    "def epsilonGreedyPolicy(q_value_arr, epsilon=0.1):\n",
    "    if random.random() < epsilon:\n",
    "        return random.randint(0, len(q_value_arr) - 1)\n",
    "    else:\n",
    "        return np.argmax(q_value_arr)"
   ]
  },
  {
   "cell_type": "code",
   "execution_count": 75,
   "metadata": {},
   "outputs": [],
   "source": [
    "class Option:\n",
    "\n",
    "    def __init__(\n",
    "        self,\n",
    "        num_positions: int,\n",
    "        num_actions: int,\n",
    "        terminal_position: int,\n",
    "        gamma: float = GAMMA,\n",
    "        alpha: float = ALPHA,\n",
    "    ):\n",
    "        self.q_value = np.zeros((num_positions, num_actions))\n",
    "        self.terminal_position = terminal_position\n",
    "        self.gamma = gamma\n",
    "        self.alpha = alpha\n",
    "\n",
    "    def state_to_position(self, state: int):\n",
    "        return state // 20\n",
    "\n",
    "    def get_action(self, state: int, epsilon: float = 0.1):\n",
    "        position = self.state_to_position(state)\n",
    "        return epsilonGreedyPolicy(self.q_value[position], epsilon)\n",
    "\n",
    "    def q_update(self, state: int, action: int, reward: float, next_state: int):\n",
    "        position = self.state_to_position(state)\n",
    "        next_position = self.state_to_position(next_state)\n",
    "        self.q_value[position, action] += self.alpha * (\n",
    "            reward\n",
    "            + self.gamma * np.max(self.q_value[next_position])\n",
    "            - self.q_value[position, action]\n",
    "        )\n",
    "\n",
    "    def check_done(self, state: int):\n",
    "        return self.state_to_position(state) == self.terminal_position"
   ]
  },
  {
   "cell_type": "code",
   "execution_count": 76,
   "metadata": {},
   "outputs": [],
   "source": [
    "class HRL:\n",
    "\n",
    "    def __init__(\n",
    "        self,\n",
    "        state_size: int,\n",
    "        action_size: int,\n",
    "        gamma: float = GAMMA,\n",
    "        alpha: float = ALPHA,\n",
    "    ):\n",
    "        self.q_values = np.zeros((state_size, action_size))\n",
    "        self.update_freq = np.zeros((state_size, action_size))\n",
    "        self.gamma = gamma\n",
    "        self.alpha = alpha\n",
    "\n",
    "    def update_primitive(self, state: int, action: int, reward: float, next_state: int):\n",
    "\n",
    "        self.q_values[state, action] += self.alpha * (\n",
    "            reward\n",
    "            + self.gamma * np.max(self.q_values[next_state])\n",
    "            - self.q_values[state, action]\n",
    "        )\n",
    "        self.update_freq[state, action] += 1"
   ]
  },
  {
   "cell_type": "code",
   "execution_count": 77,
   "metadata": {},
   "outputs": [],
   "source": [
    "class SMDP_QLearning(HRL):\n",
    "\n",
    "    def __init__(self, state_size, action_size, gamma=GAMMA, alpha=ALPHA):\n",
    "        super().__init__(state_size, action_size, gamma, alpha)\n",
    "        self.options = []\n",
    "        for loc in [RED_LOC, GREEN_LOC, YELLOW_LOC, BLUE_LOC]:\n",
    "            self.options.append(Option(25, 4, loc))\n",
    "\n",
    "    # def update_option_midway(\n",
    "    #     self, state: int, action: int, reward: float, next_state: int\n",
    "    # ):\n",
    "    #     return\n",
    "\n",
    "    def update_option_end(\n",
    "        self, state: int, action: int, reward: float, next_state: int, opt_duration: int\n",
    "    ):\n",
    "        self.q_values[state, action] += self.alpha * (\n",
    "            reward\n",
    "            + (self.gamma**opt_duration) * np.max(self.q_values[next_state])\n",
    "            - self.q_values[state, action]\n",
    "        )\n",
    "        self.update_freq[state, action] += 1"
   ]
  },
  {
   "cell_type": "code",
   "execution_count": 78,
   "metadata": {},
   "outputs": [],
   "source": [
    "class Trainer:\n",
    "\n",
    "    def __init__(self, env, hrl):\n",
    "        self.env = env\n",
    "        self.hrl = hrl\n",
    "\n",
    "    def train(self, num_episodes: int = 1000):\n",
    "\n",
    "        for ep in tqdm(range(num_episodes)):\n",
    "            state, _ = self.env.reset()\n",
    "            done = False\n",
    "            total_reward = 0\n",
    "            total_reward_arr = []\n",
    "\n",
    "            # while episode is not over\n",
    "            while not done:\n",
    "\n",
    "                # choose action\n",
    "                action = epsilonGreedyPolicy(self.hrl.q_values[state])\n",
    "\n",
    "                # if primitive action\n",
    "                if action < 6:\n",
    "                    next_state, reward, is_terminal, is_trunc, _ = self.env.step(action)\n",
    "                    done = is_terminal or is_trunc\n",
    "                    total_reward += reward\n",
    "                    self.hrl.update_primitive(state, action, reward, next_state)\n",
    "                    state = next_state\n",
    "\n",
    "                # if option\n",
    "                else:\n",
    "\n",
    "                    Option = self.hrl.options[action - 6]\n",
    "                    opt_start_state = state\n",
    "                    opt_reward, opt_duration, opt_done = 0, 0, Option.check_done(state)\n",
    "\n",
    "                    while not opt_done and not done:\n",
    "\n",
    "                        # choose action\n",
    "                        opt_action = Option.get_action(state)\n",
    "\n",
    "                        # take action\n",
    "                        next_state, reward, is_terminal, is_trunc, _ = self.env.step(opt_action)\n",
    "                        done = is_terminal or is_trunc\n",
    "                        total_reward += reward\n",
    "\n",
    "                        # update option's q-values\n",
    "                        Option.q_update(state, opt_action, reward, next_state)\n",
    "\n",
    "                        # update reward\n",
    "                        opt_reward += reward * (self.hrl.gamma**opt_duration)\n",
    "\n",
    "                        # update q-values of hrl\n",
    "                        # self.hrl.update_option_midway(\n",
    "                        #     state, opt_action, reward, next_state\n",
    "                        # )\n",
    "\n",
    "                        # update variables\n",
    "                        opt_duration += 1\n",
    "                        state = next_state\n",
    "                        opt_done = Option.check_done(state)\n",
    "\n",
    "                    # update initial state-action pair, if needed\n",
    "                    self.hrl.update_option_end(\n",
    "                        opt_start_state, action, opt_reward, next_state, opt_duration\n",
    "                    )\n",
    "                \n",
    "                \n",
    "                total_reward_arr.append(total_reward)\n",
    "                if done and ep % 10 == 0:\n",
    "                    print(\"Reward: \", np.array(total_reward_arr[-10:]).mean())    "
   ]
  },
  {
   "cell_type": "code",
   "execution_count": 79,
   "metadata": {},
   "outputs": [
    {
     "name": "stderr",
     "output_type": "stream",
     "text": [
      "  0%|          | 0/2000 [00:00<?, ?it/s]"
     ]
    },
    {
     "name": "stderr",
     "output_type": "stream",
     "text": [
      "  1%|          | 15/2000 [00:00<00:13, 146.93it/s]"
     ]
    },
    {
     "name": "stdout",
     "output_type": "stream",
     "text": [
      "Reward:  -221.6\n",
      "Reward:  -101.9\n",
      "Reward:  -233.4\n"
     ]
    },
    {
     "name": "stderr",
     "output_type": "stream",
     "text": [
      "  2%|▏         | 31/2000 [00:00<00:13, 151.35it/s]"
     ]
    },
    {
     "name": "stdout",
     "output_type": "stream",
     "text": [
      "Reward:  -196.3\n"
     ]
    },
    {
     "name": "stderr",
     "output_type": "stream",
     "text": [
      "  2%|▏         | 47/2000 [00:00<00:12, 151.65it/s]"
     ]
    },
    {
     "name": "stdout",
     "output_type": "stream",
     "text": [
      "Reward:  -195.5\n",
      "Reward:  -185.7\n"
     ]
    },
    {
     "name": "stderr",
     "output_type": "stream",
     "text": [
      "  3%|▎         | 63/2000 [00:00<00:13, 147.42it/s]"
     ]
    },
    {
     "name": "stdout",
     "output_type": "stream",
     "text": [
      "Reward:  -144.2\n"
     ]
    },
    {
     "name": "stderr",
     "output_type": "stream",
     "text": [
      "  4%|▍         | 78/2000 [00:00<00:14, 132.27it/s]"
     ]
    },
    {
     "name": "stdout",
     "output_type": "stream",
     "text": [
      "Reward:  -250.5\n",
      "Reward:  -256.7\n"
     ]
    },
    {
     "name": "stderr",
     "output_type": "stream",
     "text": [
      "  5%|▍         | 92/2000 [00:00<00:15, 126.94it/s]"
     ]
    },
    {
     "name": "stdout",
     "output_type": "stream",
     "text": [
      "Reward:  -230.5\n"
     ]
    },
    {
     "name": "stderr",
     "output_type": "stream",
     "text": [
      "  5%|▌         | 105/2000 [00:00<00:16, 118.40it/s]"
     ]
    },
    {
     "name": "stdout",
     "output_type": "stream",
     "text": [
      "Reward:  -253.1\n",
      "Reward:  -313.4\n"
     ]
    },
    {
     "name": "stderr",
     "output_type": "stream",
     "text": [
      "  6%|▌         | 117/2000 [00:00<00:16, 111.90it/s]"
     ]
    },
    {
     "name": "stdout",
     "output_type": "stream",
     "text": [
      "Reward:  -178.0\n"
     ]
    },
    {
     "name": "stderr",
     "output_type": "stream",
     "text": [
      "  7%|▋         | 141/2000 [00:01<00:16, 112.31it/s]"
     ]
    },
    {
     "name": "stdout",
     "output_type": "stream",
     "text": [
      "Reward:  -292.7\n",
      "Reward:  -365.3\n"
     ]
    },
    {
     "name": "stderr",
     "output_type": "stream",
     "text": [
      "  8%|▊         | 155/2000 [00:01<00:15, 117.36it/s]"
     ]
    },
    {
     "name": "stdout",
     "output_type": "stream",
     "text": [
      "Reward:  -30.7\n"
     ]
    },
    {
     "name": "stderr",
     "output_type": "stream",
     "text": [
      "  8%|▊         | 168/2000 [00:01<00:15, 120.29it/s]"
     ]
    },
    {
     "name": "stdout",
     "output_type": "stream",
     "text": [
      "Reward:  -77.9\n",
      "Reward:  -334.1\n"
     ]
    },
    {
     "name": "stderr",
     "output_type": "stream",
     "text": [
      "  9%|▉         | 181/2000 [00:01<00:15, 116.13it/s]"
     ]
    },
    {
     "name": "stdout",
     "output_type": "stream",
     "text": [
      "Reward:  -295.3\n"
     ]
    },
    {
     "name": "stderr",
     "output_type": "stream",
     "text": [
      " 10%|▉         | 193/2000 [00:01<00:15, 113.84it/s]"
     ]
    },
    {
     "name": "stdout",
     "output_type": "stream",
     "text": [
      "Reward:  -314.5\n",
      "Reward:  -182.7\n"
     ]
    },
    {
     "name": "stderr",
     "output_type": "stream",
     "text": [
      " 10%|█         | 209/2000 [00:01<00:14, 122.68it/s]"
     ]
    },
    {
     "name": "stdout",
     "output_type": "stream",
     "text": [
      "Reward:  -301.9\n"
     ]
    },
    {
     "name": "stderr",
     "output_type": "stream",
     "text": [
      " 12%|█▏        | 237/2000 [00:01<00:13, 126.70it/s]"
     ]
    },
    {
     "name": "stdout",
     "output_type": "stream",
     "text": [
      "Reward:  -122.1\n",
      "Reward:  -220.8\n",
      "Reward:  -52.6\n"
     ]
    },
    {
     "name": "stderr",
     "output_type": "stream",
     "text": [
      " 13%|█▎        | 264/2000 [00:02<00:14, 122.75it/s]"
     ]
    },
    {
     "name": "stdout",
     "output_type": "stream",
     "text": [
      "Reward:  -202.4\n",
      "Reward:  -110.6\n",
      "Reward:  -233.4\n"
     ]
    },
    {
     "name": "stderr",
     "output_type": "stream",
     "text": [
      " 15%|█▍        | 294/2000 [00:02<00:12, 132.54it/s]"
     ]
    },
    {
     "name": "stdout",
     "output_type": "stream",
     "text": [
      "Reward:  -85.7\n",
      "Reward:  -282.1\n",
      "Reward:  -279.3\n"
     ]
    },
    {
     "name": "stderr",
     "output_type": "stream",
     "text": [
      " 15%|█▌        | 308/2000 [00:02<00:12, 134.44it/s]"
     ]
    },
    {
     "name": "stdout",
     "output_type": "stream",
     "text": [
      "Reward:  -171.6\n"
     ]
    },
    {
     "name": "stderr",
     "output_type": "stream",
     "text": [
      " 17%|█▋        | 338/2000 [00:02<00:12, 137.60it/s]"
     ]
    },
    {
     "name": "stdout",
     "output_type": "stream",
     "text": [
      "Reward:  -2.142857142857143\n",
      "Reward:  -161.9\n",
      "Reward:  -180.7\n"
     ]
    },
    {
     "name": "stderr",
     "output_type": "stream",
     "text": [
      " 19%|█▊        | 372/2000 [00:02<00:11, 146.95it/s]"
     ]
    },
    {
     "name": "stdout",
     "output_type": "stream",
     "text": [
      "Reward:  -140.7\n",
      "Reward:  -3.5\n",
      "Reward:  -11.7\n",
      "Reward:  -45.1\n"
     ]
    },
    {
     "name": "stderr",
     "output_type": "stream",
     "text": [
      " 20%|██        | 405/2000 [00:03<00:10, 152.90it/s]"
     ]
    },
    {
     "name": "stdout",
     "output_type": "stream",
     "text": [
      "Reward:  -239.6\n",
      "Reward:  -285.2\n",
      "Reward:  -57.2\n",
      "Reward:  -279.2\n"
     ]
    },
    {
     "name": "stderr",
     "output_type": "stream",
     "text": [
      " 22%|██▏       | 431/2000 [00:03<00:08, 176.28it/s]"
     ]
    },
    {
     "name": "stdout",
     "output_type": "stream",
     "text": [
      "Reward:  -303.3\n"
     ]
    },
    {
     "name": "stderr",
     "output_type": "stream",
     "text": [
      " 22%|██▏       | 449/2000 [00:03<00:09, 165.89it/s]"
     ]
    },
    {
     "name": "stdout",
     "output_type": "stream",
     "text": [
      "Reward:  -121.3\n",
      "Reward:  -304.7\n"
     ]
    },
    {
     "name": "stderr",
     "output_type": "stream",
     "text": [
      " 23%|██▎       | 466/2000 [00:03<00:09, 157.06it/s]"
     ]
    },
    {
     "name": "stdout",
     "output_type": "stream",
     "text": [
      "Reward:  -240.4\n",
      "Reward:  -19.77777777777778\n"
     ]
    },
    {
     "name": "stderr",
     "output_type": "stream",
     "text": [
      " 24%|██▍       | 489/2000 [00:03<00:08, 175.64it/s]"
     ]
    },
    {
     "name": "stdout",
     "output_type": "stream",
     "text": [
      "Reward:  -68.5\n",
      "Reward:  -370.7\n",
      "Reward:  -50.4\n"
     ]
    },
    {
     "name": "stderr",
     "output_type": "stream",
     "text": [
      " 26%|██▌       | 511/2000 [00:03<00:07, 187.52it/s]"
     ]
    },
    {
     "name": "stdout",
     "output_type": "stream",
     "text": [
      "Reward:  -4.1\n",
      "Reward:  -1.75\n"
     ]
    },
    {
     "name": "stderr",
     "output_type": "stream",
     "text": [
      " 27%|██▋       | 534/2000 [00:03<00:07, 198.33it/s]"
     ]
    },
    {
     "name": "stdout",
     "output_type": "stream",
     "text": [
      "Reward:  -2.8\n",
      "Reward:  -295.1\n",
      "Reward:  -72.5\n"
     ]
    },
    {
     "name": "stderr",
     "output_type": "stream",
     "text": [
      " 28%|██▊       | 558/2000 [00:03<00:06, 209.48it/s]"
     ]
    },
    {
     "name": "stdout",
     "output_type": "stream",
     "text": [
      "Reward:  -34.3\n",
      "Reward:  -53.8\n"
     ]
    },
    {
     "name": "stderr",
     "output_type": "stream",
     "text": [
      " 29%|██▉       | 580/2000 [00:04<00:07, 193.22it/s]"
     ]
    },
    {
     "name": "stdout",
     "output_type": "stream",
     "text": [
      "Reward:  -3.25\n",
      "Reward:  -69.5\n"
     ]
    },
    {
     "name": "stderr",
     "output_type": "stream",
     "text": [
      " 30%|███       | 600/2000 [00:04<00:07, 193.07it/s]"
     ]
    },
    {
     "name": "stdout",
     "output_type": "stream",
     "text": [
      "Reward:  -75.5\n",
      "Reward:  -84.5\n"
     ]
    },
    {
     "name": "stderr",
     "output_type": "stream",
     "text": [
      " 32%|███▏      | 643/2000 [00:04<00:06, 202.09it/s]"
     ]
    },
    {
     "name": "stdout",
     "output_type": "stream",
     "text": [
      "Reward:  -59.1\n",
      "Reward:  -8.5\n",
      "Reward:  -43.0\n"
     ]
    },
    {
     "name": "stderr",
     "output_type": "stream",
     "text": [
      " 33%|███▎      | 666/2000 [00:04<00:06, 208.33it/s]"
     ]
    },
    {
     "name": "stdout",
     "output_type": "stream",
     "text": [
      "Reward:  -20.3\n",
      "Reward:  -139.1\n"
     ]
    },
    {
     "name": "stderr",
     "output_type": "stream",
     "text": [
      " 34%|███▍      | 687/2000 [00:04<00:06, 208.18it/s]"
     ]
    },
    {
     "name": "stdout",
     "output_type": "stream",
     "text": [
      "Reward:  -20.3\n",
      "Reward:  -13.3\n",
      "Reward:  -271.1\n"
     ]
    },
    {
     "name": "stderr",
     "output_type": "stream",
     "text": [
      " 35%|███▌      | 708/2000 [00:04<00:06, 197.25it/s]"
     ]
    },
    {
     "name": "stdout",
     "output_type": "stream",
     "text": [
      "Reward:  -5.6\n"
     ]
    },
    {
     "name": "stderr",
     "output_type": "stream",
     "text": [
      " 37%|███▋      | 742/2000 [00:04<00:05, 234.28it/s]"
     ]
    },
    {
     "name": "stdout",
     "output_type": "stream",
     "text": [
      "Reward:  -166.1\n",
      "Reward:  -36.1\n",
      "Reward:  -0.4\n",
      "Reward:  -14.4\n",
      "Reward:  -1.4\n"
     ]
    },
    {
     "name": "stderr",
     "output_type": "stream",
     "text": [
      " 38%|███▊      | 770/2000 [00:04<00:05, 241.75it/s]"
     ]
    },
    {
     "name": "stdout",
     "output_type": "stream",
     "text": [
      "Reward:  -1.75\n",
      "Reward:  -4.375\n"
     ]
    },
    {
     "name": "stderr",
     "output_type": "stream",
     "text": [
      " 41%|████      | 811/2000 [00:04<00:04, 288.86it/s]"
     ]
    },
    {
     "name": "stdout",
     "output_type": "stream",
     "text": [
      "Reward:  -1.25\n",
      "Reward:  -56.1\n",
      "Reward:  -68.3\n",
      "Reward:  -5.7\n",
      "Reward:  -122.3\n",
      "Reward:  -46.7\n",
      "Reward:  -46.9\n"
     ]
    },
    {
     "name": "stderr",
     "output_type": "stream",
     "text": [
      " 44%|████▎     | 874/2000 [00:05<00:04, 276.76it/s]"
     ]
    },
    {
     "name": "stdout",
     "output_type": "stream",
     "text": [
      "Reward:  -128.3\n",
      "Reward:  -57.7\n",
      "Reward:  -64.0\n",
      "Reward:  -4.222222222222222\n",
      "Reward:  -30.2\n"
     ]
    },
    {
     "name": "stderr",
     "output_type": "stream",
     "text": [
      " 46%|████▌     | 913/2000 [00:05<00:03, 301.59it/s]"
     ]
    },
    {
     "name": "stdout",
     "output_type": "stream",
     "text": [
      "Reward:  -22.8\n",
      "Reward:  -71.1\n",
      "Reward:  -10.333333333333334\n"
     ]
    },
    {
     "name": "stderr",
     "output_type": "stream",
     "text": [
      " 48%|████▊     | 950/2000 [00:05<00:03, 318.87it/s]"
     ]
    },
    {
     "name": "stdout",
     "output_type": "stream",
     "text": [
      "Reward:  -160.2\n",
      "Reward:  -17.4\n",
      "Reward:  -2.4\n",
      "Reward:  -2.8\n",
      "Reward:  -11.333333333333334\n"
     ]
    },
    {
     "name": "stderr",
     "output_type": "stream",
     "text": [
      " 50%|█████     | 1004/2000 [00:05<00:02, 380.50it/s]"
     ]
    },
    {
     "name": "stdout",
     "output_type": "stream",
     "text": [
      "Reward:  -46.3\n",
      "Reward:  -86.5\n",
      "Reward:  -88.5\n",
      "Reward:  -92.1\n",
      "Reward:  -23.0\n"
     ]
    },
    {
     "name": "stderr",
     "output_type": "stream",
     "text": [
      " 53%|█████▎    | 1061/2000 [00:05<00:02, 434.74it/s]"
     ]
    },
    {
     "name": "stdout",
     "output_type": "stream",
     "text": [
      "Reward:  3.0\n",
      "Reward:  -1.75\n",
      "Reward:  -40.2\n",
      "Reward:  0.25\n",
      "Reward:  -34.0\n",
      "Reward:  -6.666666666666667\n",
      "Reward:  -8.5\n"
     ]
    },
    {
     "name": "stderr",
     "output_type": "stream",
     "text": [
      " 56%|█████▌    | 1124/2000 [00:05<00:01, 490.36it/s]"
     ]
    },
    {
     "name": "stdout",
     "output_type": "stream",
     "text": [
      "Reward:  -0.3333333333333333\n",
      "Reward:  -3.0\n",
      "Reward:  -132.4\n",
      "Reward:  -22.8\n",
      "Reward:  -14.8\n",
      "Reward:  -0.75\n"
     ]
    },
    {
     "name": "stderr",
     "output_type": "stream",
     "text": [
      " 59%|█████▊    | 1174/2000 [00:05<00:01, 479.50it/s]"
     ]
    },
    {
     "name": "stdout",
     "output_type": "stream",
     "text": [
      "Reward:  -0.75\n",
      "Reward:  -6.2\n",
      "Reward:  -13.333333333333334\n",
      "Reward:  -164.9\n"
     ]
    },
    {
     "name": "stderr",
     "output_type": "stream",
     "text": [
      " 61%|██████    | 1223/2000 [00:05<00:01, 476.55it/s]"
     ]
    },
    {
     "name": "stdout",
     "output_type": "stream",
     "text": [
      "Reward:  -1.6\n",
      "Reward:  -51.9\n",
      "Reward:  -121.5\n",
      "Reward:  -45.9\n",
      "Reward:  -74.1\n",
      "Reward:  -7.0\n",
      "Reward:  -92.8\n"
     ]
    },
    {
     "name": "stderr",
     "output_type": "stream",
     "text": [
      " 64%|██████▍   | 1282/2000 [00:06<00:01, 509.33it/s]"
     ]
    },
    {
     "name": "stdout",
     "output_type": "stream",
     "text": [
      "Reward:  -20.9\n",
      "Reward:  -29.0\n",
      "Reward:  -2.2\n",
      "Reward:  -1.25\n",
      "Reward:  -112.7\n"
     ]
    },
    {
     "name": "stderr",
     "output_type": "stream",
     "text": [
      " 67%|██████▋   | 1340/2000 [00:06<00:01, 529.26it/s]"
     ]
    },
    {
     "name": "stdout",
     "output_type": "stream",
     "text": [
      "Reward:  -7.1\n",
      "Reward:  -4.9\n",
      "Reward:  -34.5\n",
      "Reward:  -5.375\n",
      "Reward:  -2.75\n",
      "Reward:  -8.222222222222221\n",
      "Reward:  -166.9\n"
     ]
    },
    {
     "name": "stderr",
     "output_type": "stream",
     "text": [
      " 70%|███████   | 1402/2000 [00:06<00:01, 555.87it/s]"
     ]
    },
    {
     "name": "stdout",
     "output_type": "stream",
     "text": [
      "Reward:  -3.25\n",
      "Reward:  -48.6\n",
      "Reward:  0.3333333333333333\n",
      "Reward:  -10.714285714285714\n",
      "Reward:  -3.5714285714285716\n",
      "Reward:  -1.25\n"
     ]
    },
    {
     "name": "stderr",
     "output_type": "stream",
     "text": [
      " 73%|███████▎  | 1465/2000 [00:06<00:00, 572.56it/s]"
     ]
    },
    {
     "name": "stdout",
     "output_type": "stream",
     "text": [
      "Reward:  -12.333333333333334\n",
      "Reward:  -42.1\n",
      "Reward:  -33.7\n",
      "Reward:  -25.4\n",
      "Reward:  -14.4\n",
      "Reward:  -3.0\n"
     ]
    },
    {
     "name": "stderr",
     "output_type": "stream",
     "text": [
      " 76%|███████▋  | 1526/2000 [00:06<00:00, 582.41it/s]"
     ]
    },
    {
     "name": "stdout",
     "output_type": "stream",
     "text": [
      "Reward:  -39.9\n",
      "Reward:  -15.8\n",
      "Reward:  -25.1\n",
      "Reward:  -4.25\n",
      "Reward:  -3.75\n",
      "Reward:  0.75\n"
     ]
    },
    {
     "name": "stderr",
     "output_type": "stream",
     "text": [
      " 79%|███████▉  | 1585/2000 [00:06<00:00, 526.31it/s]"
     ]
    },
    {
     "name": "stdout",
     "output_type": "stream",
     "text": [
      "Reward:  -98.3\n",
      "Reward:  -42.5\n",
      "Reward:  -24.3\n",
      "Reward:  -12.0\n"
     ]
    },
    {
     "name": "stderr",
     "output_type": "stream",
     "text": [
      " 82%|████████▏ | 1640/2000 [00:06<00:00, 532.33it/s]"
     ]
    },
    {
     "name": "stdout",
     "output_type": "stream",
     "text": [
      "Reward:  2.3333333333333335\n",
      "Reward:  -5.0\n",
      "Reward:  -6.0\n",
      "Reward:  -3.2\n",
      "Reward:  -77.5\n",
      "Reward:  -11.0\n",
      "Reward:  -28.3\n"
     ]
    },
    {
     "name": "stderr",
     "output_type": "stream",
     "text": [
      " 85%|████████▍ | 1695/2000 [00:06<00:00, 511.37it/s]"
     ]
    },
    {
     "name": "stdout",
     "output_type": "stream",
     "text": [
      "Reward:  -29.6\n",
      "Reward:  -5.25\n",
      "Reward:  -113.9\n",
      "Reward:  -55.3\n"
     ]
    },
    {
     "name": "stderr",
     "output_type": "stream",
     "text": [
      " 87%|████████▋ | 1749/2000 [00:06<00:00, 518.95it/s]"
     ]
    },
    {
     "name": "stdout",
     "output_type": "stream",
     "text": [
      "Reward:  -16.1\n",
      "Reward:  -38.9\n",
      "Reward:  -26.2\n",
      "Reward:  -42.0\n",
      "Reward:  -142.7\n",
      "Reward:  -2.3333333333333335\n",
      "Reward:  -40.2\n",
      "Reward:  -52.5\n"
     ]
    },
    {
     "name": "stderr",
     "output_type": "stream",
     "text": [
      " 90%|█████████ | 1809/2000 [00:07<00:00, 541.15it/s]"
     ]
    },
    {
     "name": "stdout",
     "output_type": "stream",
     "text": [
      "Reward:  -5.857142857142857\n",
      "Reward:  -3.6666666666666665\n",
      "Reward:  -35.5\n",
      "Reward:  -83.7\n",
      "Reward:  -3.25\n"
     ]
    },
    {
     "name": "stderr",
     "output_type": "stream",
     "text": [
      " 95%|█████████▍| 1892/2000 [00:07<00:00, 619.46it/s]"
     ]
    },
    {
     "name": "stdout",
     "output_type": "stream",
     "text": [
      "Reward:  -5.5\n",
      "Reward:  -14.9\n",
      "Reward:  -5.25\n",
      "Reward:  -30.3\n",
      "Reward:  -1.25\n",
      "Reward:  -1.75\n",
      "Reward:  -12.555555555555555\n",
      "Reward:  -4.0\n",
      "Reward:  -14.9\n",
      "Reward:  -221.4\n"
     ]
    },
    {
     "name": "stderr",
     "output_type": "stream",
     "text": [
      " 98%|█████████▊| 1963/2000 [00:07<00:00, 644.37it/s]"
     ]
    },
    {
     "name": "stdout",
     "output_type": "stream",
     "text": [
      "Reward:  0.3333333333333333\n",
      "Reward:  -4.375\n",
      "Reward:  -133.3\n",
      "Reward:  -2.2\n",
      "Reward:  -11.1\n"
     ]
    },
    {
     "name": "stderr",
     "output_type": "stream",
     "text": [
      "100%|██████████| 2000/2000 [00:07<00:00, 275.57it/s]\n"
     ]
    }
   ],
   "source": [
    "agent = SMDP_QLearning(500, 10)\n",
    "trainer = Trainer(env, agent)\n",
    "trainer.train(2000)"
   ]
  },
  {
   "cell_type": "code",
   "execution_count": 83,
   "metadata": {},
   "outputs": [
    {
     "data": {
      "text/plain": [
       "<Axes: >"
      ]
     },
     "execution_count": 83,
     "metadata": {},
     "output_type": "execute_result"
    },
    {
     "data": {
      "image/png": "[encoded data removed]",
      "text/plain": [
       "<Figure size 640x480 with 2 Axes>"
      ]
     },
     "metadata": {},
     "output_type": "display_data"
    }
   ],
   "source": [
    "red_grid = agent.options[0].q_value.max(axis=1).reshape(5, 5)  \n",
    "sns.heatmap(red_grid, annot=True, fmt=\".2f\")"
   ]
  },
  {
   "cell_type": "code",
   "execution_count": 86,
   "metadata": {},
   "outputs": [
    {
     "data": {
      "text/plain": [
       "<Axes: >"
      ]
     },
     "execution_count": 86,
     "metadata": {},
     "output_type": "execute_result"
    },
    {
     "data": {
      "image/png": "[encoded data removed]",
      "text/plain": [
       "<Figure size 640x480 with 2 Axes>"
      ]
     },
     "metadata": {},
     "output_type": "display_data"
    }
   ],
   "source": [
    "# select every 4th row of q_values and put it into a grid\n",
    "# desination fixed to be red\n",
    "\n",
    "grid = agent.q_values[::4].max(axis=1)\n",
    "grid = grid.reshape(5, 5, 5)\n",
    "grid = grid.max(axis=2)\n",
    "sns.heatmap(grid, annot=True, fmt=\".2f\")"
   ]
  },
  {
   "cell_type": "code",
   "execution_count": null,
   "metadata": {},
   "outputs": [],
   "source": []
  }
 ],
 "metadata": {
  "kernelspec": {
   "display_name": "Python 3",
   "language": "python",
   "name": "python3"
  },
  "language_info": {
   "codemirror_mode": {
    "name": "ipython",
    "version": 3
   },
   "file_extension": ".py",
   "mimetype": "text/x-python",
   "name": "python",
   "nbconvert_exporter": "python",
   "pygments_lexer": "ipython3",
   "version": "3.11.8"
  }
 },
 "nbformat": 4,
 "nbformat_minor": 2
}
